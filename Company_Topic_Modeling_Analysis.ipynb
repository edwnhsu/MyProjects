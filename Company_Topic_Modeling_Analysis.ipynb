{
 "cells": [
  {
   "cell_type": "code",
   "execution_count": 1,
   "metadata": {},
   "outputs": [
    {
     "name": "stdout",
     "output_type": "stream",
     "text": [
      "3.11.5 (main, Sep 11 2023, 08:31:25) [Clang 14.0.6 ]\n"
     ]
    }
   ],
   "source": [
    "import sys\n",
    "print(sys.version)"
   ]
  },
  {
   "cell_type": "code",
   "execution_count": 2,
   "metadata": {},
   "outputs": [
    {
     "name": "stdout",
     "output_type": "stream",
     "text": [
      "Current Working Directory: /Users/edwinhsu\n"
     ]
    }
   ],
   "source": [
    "import os\n",
    "\n",
    "# Specify the new directory path you want to change to\n",
    "new_directory_path = '/Users/edwinhsu'\n",
    "\n",
    "# Change the current working directory\n",
    "os.chdir(new_directory_path)\n",
    "\n",
    "# Verify the change\n",
    "print(\"Current Working Directory:\", os.getcwd())\n"
   ]
  },
  {
   "cell_type": "code",
   "execution_count": 3,
   "metadata": {},
   "outputs": [],
   "source": [
    "import os\n",
    "import time\n",
    "import math\n",
    "import re\n",
    "from pprint import pprint\n",
    "from textblob import TextBlob\n",
    "import pandas as pd\n",
    "import numpy as np\n",
    "\n",
    "import matplotlib.pyplot as plt\n",
    "\n",
    "\n",
    "import nltk as nltk\n",
    "from nltk.corpus import stopwords\n",
    "# from nltk.stem.wordnet import WordNetLemmatizer\n",
    "import spacy\n",
    "import multiprocessing\n",
    "import string\n",
    "\n",
    "\n",
    "import gensim\n",
    "from gensim import corpora, models\n",
    "from gensim.models.ldamulticore import LdaMulticore\n",
    "from gensim.utils import simple_preprocess\n",
    "from gensim.models import CoherenceModel\n",
    "\n",
    "# import pyLDAvis.gensim\n",
    "import pyLDAvis\n",
    "import pyLDAvis.gensim_models as gensimvis\n",
    "pyLDAvis.enable_notebook()"
   ]
  },
  {
   "cell_type": "code",
   "execution_count": 4,
   "metadata": {},
   "outputs": [
    {
     "name": "stdout",
     "output_type": "stream",
     "text": [
      "INFO: Pandarallel will run on 10 workers.\n",
      "INFO: Pandarallel will use standard multiprocessing data transfer (pipe) to transfer data between the main process and workers.\n"
     ]
    }
   ],
   "source": [
    "import pandas as pd\n",
    "import nltk as nltk\n",
    "import nltk.corpus  \n",
    "from nltk.text import Text\n",
    "import re\n",
    "import sys\n",
    "import numpy as np\n",
    "from gensim import corpora, models\n",
    "from nltk.corpus import stopwords\n",
    "from nltk.stem.wordnet import WordNetLemmatizer\n",
    "from sklearn.feature_extraction.text import CountVectorizer\n",
    "from sklearn.metrics import jaccard_score\n",
    "from itertools import combinations\n",
    "from nltk.tokenize import word_tokenize\n",
    "from nltk.corpus import stopwords\n",
    "import matplotlib.pyplot as plt\n",
    "from nltk import ngrams\n",
    "from spacy.lang.en.stop_words import STOP_WORDS\n",
    "import pandas as pd\n",
    "import matplotlib.pyplot as plt\n",
    "from collections import Counter\n",
    "from pandarallel import pandarallel\n",
    "import multiprocessing\n",
    "# Initialize pandarallel\n",
    "pandarallel.initialize()"
   ]
  },
  {
   "cell_type": "code",
   "execution_count": 5,
   "metadata": {},
   "outputs": [
    {
     "name": "stdout",
     "output_type": "stream",
     "text": [
      "10\n"
     ]
    }
   ],
   "source": [
    "from multiprocessing import cpu_count\n",
    "\n",
    "print(cpu_count())"
   ]
  },
  {
   "cell_type": "code",
   "execution_count": 6,
   "metadata": {},
   "outputs": [
    {
     "name": "stdout",
     "output_type": "stream",
     "text": [
      "Execution time: 1.6927719116210938e-05 seconds\n"
     ]
    }
   ],
   "source": [
    "import time\n",
    "\n",
    "start_time = time.time()\n",
    "\n",
    "# Place your multicore processing code here\n",
    "\n",
    "end_time = time.time()\n",
    "print(f\"Execution time: {end_time - start_time} seconds\")\n"
   ]
  },
  {
   "cell_type": "code",
   "execution_count": 7,
   "metadata": {},
   "outputs": [],
   "source": [
    "import pandas as pd\n",
    "\n",
    "pd.set_option('display.max_rows', 100)\n",
    "pd.set_option('display.max_columns', None)\n",
    "pd.set_option('display.max_colwidth', 500)"
   ]
  },
  {
   "cell_type": "code",
   "execution_count": 8,
   "metadata": {},
   "outputs": [
    {
     "name": "stdout",
     "output_type": "stream",
     "text": [
      "You have 10 cores.\n",
      "INFO: Pandarallel will run on 9 workers.\n",
      "INFO: Pandarallel will use standard multiprocessing data transfer (pipe) to transfer data between the main process and workers.\n"
     ]
    }
   ],
   "source": [
    "from pandarallel import pandarallel\n",
    "import multiprocessing\n",
    "num_cores = multiprocessing.cpu_count()\n",
    "print(f\"You have {num_cores} cores.\")# Initialize pandarallel to use num_cores - 1\n",
    "pandarallel.initialize(nb_workers=num_cores-1,progress_bar=True)"
   ]
  },
  {
   "cell_type": "markdown",
   "metadata": {},
   "source": [
    "#### Read tweets data"
   ]
  },
  {
   "cell_type": "code",
   "execution_count": 9,
   "metadata": {},
   "outputs": [
    {
     "name": "stdout",
     "output_type": "stream",
     "text": [
      "Sample contains 9,941 tweets\n"
     ]
    },
    {
     "data": {
      "text/html": [
       "<div>\n",
       "<style scoped>\n",
       "    .dataframe tbody tr th:only-of-type {\n",
       "        vertical-align: middle;\n",
       "    }\n",
       "\n",
       "    .dataframe tbody tr th {\n",
       "        vertical-align: top;\n",
       "    }\n",
       "\n",
       "    .dataframe thead th {\n",
       "        text-align: right;\n",
       "    }\n",
       "</style>\n",
       "<table border=\"1\" class=\"dataframe\">\n",
       "  <thead>\n",
       "    <tr style=\"text-align: right;\">\n",
       "      <th></th>\n",
       "      <th>id</th>\n",
       "      <th>lang</th>\n",
       "      <th>date</th>\n",
       "      <th>name</th>\n",
       "      <th>retweeted</th>\n",
       "      <th>text</th>\n",
       "    </tr>\n",
       "  </thead>\n",
       "  <tbody>\n",
       "    <tr>\n",
       "      <th>0</th>\n",
       "      <td>1484553027222741001</td>\n",
       "      <td>en</td>\n",
       "      <td>2022-01-21</td>\n",
       "      <td>Dylan Green</td>\n",
       "      <td>RT</td>\n",
       "      <td>*Microsoft has entered the chat* https://t.co/Uz3pZrk6B3</td>\n",
       "    </tr>\n",
       "    <tr>\n",
       "      <th>1</th>\n",
       "      <td>1505486305102557184</td>\n",
       "      <td>en</td>\n",
       "      <td>2022-03-20</td>\n",
       "      <td>Rahim Rajwani</td>\n",
       "      <td></td>\n",
       "      <td>\"I actually use an @Android phone. Some #Android manufacturers pre-install @Microsoft software in a way that makes it easy for me. They’re more flexible about how the software connects up with the OS. So that’s what I ended up getting used to.\"\\nhttps://t.co/C0VjfS9PUO</td>\n",
       "    </tr>\n",
       "  </tbody>\n",
       "</table>\n",
       "</div>"
      ],
      "text/plain": [
       "                    id lang       date           name retweeted  \\\n",
       "0  1484553027222741001   en 2022-01-21    Dylan Green        RT   \n",
       "1  1505486305102557184   en 2022-03-20  Rahim Rajwani             \n",
       "\n",
       "                                                                                                                                                                                                                                                                            text  \n",
       "0                                                                                                                                                                                                                       *Microsoft has entered the chat* https://t.co/Uz3pZrk6B3  \n",
       "1  \"I actually use an @Android phone. Some #Android manufacturers pre-install @Microsoft software in a way that makes it easy for me. They’re more flexible about how the software connects up with the OS. So that’s what I ended up getting used to.\"\\nhttps://t.co/C0VjfS9PUO  "
      ]
     },
     "execution_count": 9,
     "metadata": {},
     "output_type": "execute_result"
    }
   ],
   "source": [
    "tweets_path = 'https://storage.googleapis.com/msca-bdp-data-open/tweets/nlp_a_6_tweets.json'\n",
    "tweets_df = pd.read_json(tweets_path, orient='records', lines=True)\n",
    "print(f'Sample contains {tweets_df.shape[0]:,.0f} tweets')\n",
    "tweets_df.head(2)"
   ]
  },
  {
   "cell_type": "code",
   "execution_count": 10,
   "metadata": {},
   "outputs": [],
   "source": [
    "#nltk.download('stopwords')\n",
    "\n",
    "#spacy.cli.download(\"en_core_web_sm\")\n",
    "#spacy.cli.download(\"en_core_web_md\")\n",
    "#spacy.cli.download(\"en_core_web_lg\")\n",
    "#spacy.cli.download(\"en_core_web_trf\")"
   ]
  },
  {
   "cell_type": "code",
   "execution_count": 11,
   "metadata": {},
   "outputs": [],
   "source": [
    "import warnings\n",
    "\n",
    "# warnings.simplefilter('once')\n",
    "warnings.simplefilter('ignore')\n",
    "# warnings.filterwarnings(\"ignore\", category=FutureWarning)\n",
    "# warnings.filterwarnings(\"ignore\", category=DeprecationWarning)\n",
    "# warnings.filterwarnings(action='ignore', category=UserWarning, module='gensim')"
   ]
  },
  {
   "cell_type": "code",
   "execution_count": 12,
   "metadata": {},
   "outputs": [
    {
     "name": "stdout",
     "output_type": "stream",
     "text": [
      "Using 9 workers\n"
     ]
    }
   ],
   "source": [
    "num_processors = multiprocessing.cpu_count()\n",
    "num_processors\n",
    "\n",
    "workers = num_processors-1\n",
    "\n",
    "print(f'Using {workers} workers')"
   ]
  },
  {
   "cell_type": "code",
   "execution_count": 13,
   "metadata": {},
   "outputs": [
    {
     "data": {
      "application/vnd.jupyter.widget-view+json": {
       "model_id": "fe397a9cf3834cb3af7add4fa703384d",
       "version_major": 2,
       "version_minor": 0
      },
      "text/plain": [
       "VBox(children=(HBox(children=(IntProgress(value=0, description='0.00%', max=1105), Label(value='0 / 1105'))), …"
      ]
     },
     "metadata": {},
     "output_type": "display_data"
    },
    {
     "name": "stdout",
     "output_type": "stream",
     "text": [
      "CPU times: user 675 ms, sys: 142 ms, total: 816 ms\n",
      "Wall time: 4.6 s\n"
     ]
    }
   ],
   "source": [
    "%%time\n",
    "import pandas as pd\n",
    "import spacy\n",
    "import re\n",
    "from gensim.parsing.preprocessing import STOPWORDS\n",
    "from gensim.utils import simple_preprocess\n",
    "\n",
    "# Load the spaCy model\n",
    "nlp = spacy.load('en_core_web_sm', disable=['parser', 'ner'])\n",
    "stop_words = set(stopwords.words('english'))\n",
    "# Preprocessing function\n",
    "def preprocess_text(text):\n",
    "\n",
    "    # Remove emojis\n",
    "    emoji_pattern = re.compile(\"[\"\n",
    "                               u\"\\U0001F600-\\U0001F64F\"  # emoticons\n",
    "                               u\"\\U0001F300-\\U0001F5FF\"  # symbols & pictographs\n",
    "                               u\"\\U0001F680-\\U0001F6FF\"  # transport & map symbols\n",
    "                               u\"\\U0001F1E0-\\U0001F1FF\"  # flags (iOS)\n",
    "                               u\"\\U00002702-\\U000027B0\"\n",
    "                               u\"\\U000024C2-\\U0001F251\"\n",
    "                               \"]+\", flags=re.UNICODE)\n",
    "    text = emoji_pattern.sub(r'', text)\n",
    "    \n",
    "    # Remove URLs\n",
    "    text = re.sub(r'http\\S+|www\\.\\S+', '', text)\n",
    "    \n",
    "    # Remove mentions\n",
    "    text = re.sub(r'@\\w+', '', text)\n",
    "    \n",
    "    # Remove hashtags\n",
    "    text = re.sub(r'#\\w+', '', text)\n",
    "    \n",
    "    # Remove new lines and lower case\n",
    "    text = text.replace('\\n', ' ').lower()\n",
    "    \n",
    "    # Remove punctuation and stop words\n",
    "    tokens = simple_preprocess(text, deacc=True)  # Deacc=True removes punctuations\n",
    "    tokens = [token for token in tokens if token not in stop_words]\n",
    "    \n",
    "    # Lemmatization\n",
    "    lemmatized_tokens = [token.lemma_ for token in nlp(\" \".join(tokens))]\n",
    "    \n",
    "    return lemmatized_tokens\n",
    "\n",
    "# Apply preprocessing to the 'text' column\n",
    "tweets_df['processed_text'] = tweets_df['text'].parallel_apply(preprocess_text)"
   ]
  },
  {
   "cell_type": "code",
   "execution_count": 14,
   "metadata": {},
   "outputs": [
    {
     "data": {
      "text/html": [
       "<div>\n",
       "<style scoped>\n",
       "    .dataframe tbody tr th:only-of-type {\n",
       "        vertical-align: middle;\n",
       "    }\n",
       "\n",
       "    .dataframe tbody tr th {\n",
       "        vertical-align: top;\n",
       "    }\n",
       "\n",
       "    .dataframe thead th {\n",
       "        text-align: right;\n",
       "    }\n",
       "</style>\n",
       "<table border=\"1\" class=\"dataframe\">\n",
       "  <thead>\n",
       "    <tr style=\"text-align: right;\">\n",
       "      <th></th>\n",
       "      <th>id</th>\n",
       "      <th>lang</th>\n",
       "      <th>date</th>\n",
       "      <th>name</th>\n",
       "      <th>retweeted</th>\n",
       "      <th>text</th>\n",
       "      <th>processed_text</th>\n",
       "    </tr>\n",
       "  </thead>\n",
       "  <tbody>\n",
       "    <tr>\n",
       "      <th>0</th>\n",
       "      <td>1484553027222741001</td>\n",
       "      <td>en</td>\n",
       "      <td>2022-01-21</td>\n",
       "      <td>Dylan Green</td>\n",
       "      <td>RT</td>\n",
       "      <td>*Microsoft has entered the chat* https://t.co/Uz3pZrk6B3</td>\n",
       "      <td>[microsoft, enter, chat]</td>\n",
       "    </tr>\n",
       "    <tr>\n",
       "      <th>1</th>\n",
       "      <td>1505486305102557184</td>\n",
       "      <td>en</td>\n",
       "      <td>2022-03-20</td>\n",
       "      <td>Rahim Rajwani</td>\n",
       "      <td></td>\n",
       "      <td>\"I actually use an @Android phone. Some #Android manufacturers pre-install @Microsoft software in a way that makes it easy for me. They’re more flexible about how the software connects up with the OS. So that’s what I ended up getting used to.\"\\nhttps://t.co/C0VjfS9PUO</td>\n",
       "      <td>[actually, use, phone, manufacturer, pre, install, software, way, make, easy, flexible, software, connect, os, end, get, use]</td>\n",
       "    </tr>\n",
       "    <tr>\n",
       "      <th>2</th>\n",
       "      <td>1534423029077401600</td>\n",
       "      <td>en</td>\n",
       "      <td>2022-06-08</td>\n",
       "      <td>zobjobs - US Remote Jobs</td>\n",
       "      <td></td>\n",
       "      <td>Need Help With Data Entry | Microsoft Word | Visual Assistant &amp;amp; Cleanup\\nat Upwork\\nThe Data Entry Specialist is responsible for upd...\\n#DataEntry #workfromanywhere \\nhttps://t.co/xuslPNLhvU</td>\n",
       "      <td>[need, help, data, entry, microsoft, word, visual, assistant, amp, cleanup, upwork, datum, entry, specialist, responsible, upd]</td>\n",
       "    </tr>\n",
       "    <tr>\n",
       "      <th>3</th>\n",
       "      <td>1505488514867032071</td>\n",
       "      <td>en</td>\n",
       "      <td>2022-03-20</td>\n",
       "      <td>GrannyPink</td>\n",
       "      <td>RT</td>\n",
       "      <td>@Concentrix @Microsoft This Bryan Jay claims to be your employee. He has threatened to throw a bomb at the crowd in Pasig. @pnppio @Meta @DILGPhilippines Time to take action. https://t.co/Opk8B7dgsC</td>\n",
       "      <td>[bryan, jay, claim, employee, threaten, throw, bomb, crowd, pasig, time, take, action]</td>\n",
       "    </tr>\n",
       "    <tr>\n",
       "      <th>4</th>\n",
       "      <td>1534860135159726081</td>\n",
       "      <td>en</td>\n",
       "      <td>2022-06-09</td>\n",
       "      <td>summer</td>\n",
       "      <td>RT</td>\n",
       "      <td>Tags; netflix viu youtube iflix hbo max hbo go disney plus iwant iqyi amazon crunchyroll shudder spotify tidal napster apple music pandora grammarly canva quillbot bartleby microsoft 365 quizlet scribd zoom pro skillshare zookal prezi coursehero picsart and many more, just dm me! https://t.co/qnJ2uwnaMh</td>\n",
       "      <td>[tag, netflix, viu, youtube, iflix, hbo, max, hbo, go, disney, plus, iwant, iqyi, amazon, crunchyroll, shudder, spotify, tidal, napster, apple, music, pandora, grammarly, canva, quillbot, bartleby, microsoft, quizlet, scribd, zoom, pro, skillshare, zookal, prezi, coursehero, picsart, many, dm]</td>\n",
       "    </tr>\n",
       "    <tr>\n",
       "      <th>...</th>\n",
       "      <td>...</td>\n",
       "      <td>...</td>\n",
       "      <td>...</td>\n",
       "      <td>...</td>\n",
       "      <td>...</td>\n",
       "      <td>...</td>\n",
       "      <td>...</td>\n",
       "    </tr>\n",
       "    <tr>\n",
       "      <th>9936</th>\n",
       "      <td>1558005922760650753</td>\n",
       "      <td>en</td>\n",
       "      <td>2022-08-12</td>\n",
       "      <td>satria</td>\n",
       "      <td>RT</td>\n",
       "      <td>Hello Data Analyst,\\n\\nHave you tried MSPTDA (Microsoft Power Tools and Data Analysis)?\\n\\nThe link below gives you free access to the beginner to advanced data analysis &amp;amp; BI class. \\n\\nLearn about Power Query, Power Pivot, DAX, M Code, Power BI &amp;amp; Excel (about 81 videos). 1/2</td>\n",
       "      <td>[hello, data, analyst, try, msptda, microsoft, power, tool, datum, analysis, link, give, free, access, beginner, advanced, datum, analysis, amp, bi, class, learn, power, query, power, pivot, dax, code, power, bi, amp, excel, video]</td>\n",
       "    </tr>\n",
       "    <tr>\n",
       "      <th>9937</th>\n",
       "      <td>1556034674186649608</td>\n",
       "      <td>en</td>\n",
       "      <td>2022-08-06</td>\n",
       "      <td>Prince Tybalt</td>\n",
       "      <td></td>\n",
       "      <td>@ethanmaqe for any would be suitors, be it Sony, Tencent, Microsoft or whoever. It'll be about what brands like Final Fantasy, Kingdom Hearts &amp;amp; Dragons Quest can do for them &amp;amp; their respective businesses. That's the reality of the industry right now. I'd prefer no more consolidation. 2/2</td>\n",
       "      <td>[would, suitor, sony, tencent, microsoft, whoever, brand, like, final, fantasy, kingdom, heart, amp, dragons, quest, amp, respective, business, reality, industry, right, prefer, consolidation]</td>\n",
       "    </tr>\n",
       "    <tr>\n",
       "      <th>9938</th>\n",
       "      <td>1556888440062545920</td>\n",
       "      <td>en</td>\n",
       "      <td>2022-08-09</td>\n",
       "      <td>✨ TaiTai 👩‍💻 🇿🇦 ✨</td>\n",
       "      <td>RT</td>\n",
       "      <td>We’re excited to announce today that we’ve partnered with Microsoft to develop a cloud infrastructure to empower game developers and 3D artists everywhere with the power of Azure. Learn more about this partnership. https://t.co/HohHo1joFg</td>\n",
       "      <td>[excite, announce, today, partner, microsoft, develop, cloud, infrastructure, empower, game, developer, artist, everywhere, power, azure, learn, partnership]</td>\n",
       "    </tr>\n",
       "    <tr>\n",
       "      <th>9939</th>\n",
       "      <td>1556224151039356929</td>\n",
       "      <td>en</td>\n",
       "      <td>2022-08-07</td>\n",
       "      <td>N. L. Perry</td>\n",
       "      <td></td>\n",
       "      <td>Full text: Microsoft’s multi-cloud vision would keep Amazon from running away with federal deals https://t.co/71lzwiwTGt https://t.co/DcpIV6GTIq</td>\n",
       "      <td>[full, text, microsoft, multi, cloud, vision, would, keep, amazon, run, away, federal, deal]</td>\n",
       "    </tr>\n",
       "    <tr>\n",
       "      <th>9940</th>\n",
       "      <td>1558039106558595074</td>\n",
       "      <td>en</td>\n",
       "      <td>2022-08-12</td>\n",
       "      <td>Blackhat Marketing</td>\n",
       "      <td></td>\n",
       "      <td>Microsoft Backs StarHeroes, a Space-Themed Blockchain Shooter https://t.co/u35NkeYyjF</td>\n",
       "      <td>[microsoft, back, starheroe, space, theme, blockchain, shooter]</td>\n",
       "    </tr>\n",
       "  </tbody>\n",
       "</table>\n",
       "<p>9941 rows × 7 columns</p>\n",
       "</div>"
      ],
      "text/plain": [
       "                       id lang       date                      name retweeted  \\\n",
       "0     1484553027222741001   en 2022-01-21               Dylan Green        RT   \n",
       "1     1505486305102557184   en 2022-03-20             Rahim Rajwani             \n",
       "2     1534423029077401600   en 2022-06-08  zobjobs - US Remote Jobs             \n",
       "3     1505488514867032071   en 2022-03-20                GrannyPink        RT   \n",
       "4     1534860135159726081   en 2022-06-09                    summer        RT   \n",
       "...                   ...  ...        ...                       ...       ...   \n",
       "9936  1558005922760650753   en 2022-08-12                    satria        RT   \n",
       "9937  1556034674186649608   en 2022-08-06             Prince Tybalt             \n",
       "9938  1556888440062545920   en 2022-08-09         ✨ TaiTai 👩‍💻 🇿🇦 ✨        RT   \n",
       "9939  1556224151039356929   en 2022-08-07               N. L. Perry             \n",
       "9940  1558039106558595074   en 2022-08-12        Blackhat Marketing             \n",
       "\n",
       "                                                                                                                                                                                                                                                                                                                  text  \\\n",
       "0                                                                                                                                                                                                                                                             *Microsoft has entered the chat* https://t.co/Uz3pZrk6B3   \n",
       "1                                        \"I actually use an @Android phone. Some #Android manufacturers pre-install @Microsoft software in a way that makes it easy for me. They’re more flexible about how the software connects up with the OS. So that’s what I ended up getting used to.\"\\nhttps://t.co/C0VjfS9PUO   \n",
       "2                                                                                                                  Need Help With Data Entry | Microsoft Word | Visual Assistant &amp; Cleanup\\nat Upwork\\nThe Data Entry Specialist is responsible for upd...\\n#DataEntry #workfromanywhere \\nhttps://t.co/xuslPNLhvU   \n",
       "3                                                                                                               @Concentrix @Microsoft This Bryan Jay claims to be your employee. He has threatened to throw a bomb at the crowd in Pasig. @pnppio @Meta @DILGPhilippines Time to take action. https://t.co/Opk8B7dgsC   \n",
       "4     Tags; netflix viu youtube iflix hbo max hbo go disney plus iwant iqyi amazon crunchyroll shudder spotify tidal napster apple music pandora grammarly canva quillbot bartleby microsoft 365 quizlet scribd zoom pro skillshare zookal prezi coursehero picsart and many more, just dm me! https://t.co/qnJ2uwnaMh   \n",
       "...                                                                                                                                                                                                                                                                                                                ...   \n",
       "9936                      Hello Data Analyst,\\n\\nHave you tried MSPTDA (Microsoft Power Tools and Data Analysis)?\\n\\nThe link below gives you free access to the beginner to advanced data analysis &amp; BI class. \\n\\nLearn about Power Query, Power Pivot, DAX, M Code, Power BI &amp; Excel (about 81 videos). 1/2   \n",
       "9937          @ethanmaqe for any would be suitors, be it Sony, Tencent, Microsoft or whoever. It'll be about what brands like Final Fantasy, Kingdom Hearts &amp; Dragons Quest can do for them &amp; their respective businesses. That's the reality of the industry right now. I'd prefer no more consolidation. 2/2   \n",
       "9938                                                                    We’re excited to announce today that we’ve partnered with Microsoft to develop a cloud infrastructure to empower game developers and 3D artists everywhere with the power of Azure. Learn more about this partnership. https://t.co/HohHo1joFg   \n",
       "9939                                                                                                                                                                  Full text: Microsoft’s multi-cloud vision would keep Amazon from running away with federal deals https://t.co/71lzwiwTGt https://t.co/DcpIV6GTIq   \n",
       "9940                                                                                                                                                                                                                             Microsoft Backs StarHeroes, a Space-Themed Blockchain Shooter https://t.co/u35NkeYyjF   \n",
       "\n",
       "                                                                                                                                                                                                                                                                                              processed_text  \n",
       "0                                                                                                                                                                                                                                                                                   [microsoft, enter, chat]  \n",
       "1                                                                                                                                                                              [actually, use, phone, manufacturer, pre, install, software, way, make, easy, flexible, software, connect, os, end, get, use]  \n",
       "2                                                                                                                                                                            [need, help, data, entry, microsoft, word, visual, assistant, amp, cleanup, upwork, datum, entry, specialist, responsible, upd]  \n",
       "3                                                                                                                                                                                                                     [bryan, jay, claim, employee, threaten, throw, bomb, crowd, pasig, time, take, action]  \n",
       "4     [tag, netflix, viu, youtube, iflix, hbo, max, hbo, go, disney, plus, iwant, iqyi, amazon, crunchyroll, shudder, spotify, tidal, napster, apple, music, pandora, grammarly, canva, quillbot, bartleby, microsoft, quizlet, scribd, zoom, pro, skillshare, zookal, prezi, coursehero, picsart, many, dm]  \n",
       "...                                                                                                                                                                                                                                                                                                      ...  \n",
       "9936                                                                 [hello, data, analyst, try, msptda, microsoft, power, tool, datum, analysis, link, give, free, access, beginner, advanced, datum, analysis, amp, bi, class, learn, power, query, power, pivot, dax, code, power, bi, amp, excel, video]  \n",
       "9937                                                                                                        [would, suitor, sony, tencent, microsoft, whoever, brand, like, final, fantasy, kingdom, heart, amp, dragons, quest, amp, respective, business, reality, industry, right, prefer, consolidation]  \n",
       "9938                                                                                                                                           [excite, announce, today, partner, microsoft, develop, cloud, infrastructure, empower, game, developer, artist, everywhere, power, azure, learn, partnership]  \n",
       "9939                                                                                                                                                                                                            [full, text, microsoft, multi, cloud, vision, would, keep, amazon, run, away, federal, deal]  \n",
       "9940                                                                                                                                                                                                                                         [microsoft, back, starheroe, space, theme, blockchain, shooter]  \n",
       "\n",
       "[9941 rows x 7 columns]"
      ]
     },
     "execution_count": 14,
     "metadata": {},
     "output_type": "execute_result"
    }
   ],
   "source": [
    "tweets_df"
   ]
  },
  {
   "cell_type": "code",
   "execution_count": 15,
   "metadata": {},
   "outputs": [
    {
     "name": "stdout",
     "output_type": "stream",
     "text": [
      "(0, '0.049*\"microsoft\" + 0.013*\"use\" + 0.011*\"ceo\" + 0.009*\"know\" + 0.008*\"company\" + 0.008*\"buy\" + 0.007*\"activision\" + 0.006*\"business\" + 0.006*\"game\" + 0.006*\"people\"')\n",
      "(1, '0.036*\"microsoft\" + 0.016*\"premium\" + 0.013*\"grammarly\" + 0.012*\"canva\" + 0.012*\"netflix\" + 0.012*\"spotify\" + 0.011*\"quillbot\" + 0.011*\"account\" + 0.011*\"year\" + 0.010*\"youtube\"')\n",
      "(2, '0.027*\"microsoft\" + 0.010*\"stop\" + 0.010*\"get\" + 0.009*\"support\" + 0.008*\"good\" + 0.007*\"russia\" + 0.006*\"product\" + 0.005*\"make\" + 0.005*\"sale\" + 0.005*\"war\"')\n",
      "(3, '0.073*\"microsoft\" + 0.009*\"game\" + 0.009*\"xbox\" + 0.008*\"like\" + 0.007*\"new\" + 0.007*\"amp\" + 0.007*\"get\" + 0.006*\"word\" + 0.006*\"use\" + 0.006*\"make\"')\n",
      "(4, '0.071*\"ever\" + 0.053*\"microsoft\" + 0.005*\"window\" + 0.005*\"today\" + 0.005*\"apple\" + 0.005*\"xbox\" + 0.004*\"company\" + 0.004*\"office\" + 0.004*\"good\" + 0.004*\"sony\"')\n",
      "CPU times: user 3.38 s, sys: 387 ms, total: 3.77 s\n",
      "Wall time: 9.44 s\n"
     ]
    }
   ],
   "source": [
    "%%time\n",
    "from gensim import corpora, models\n",
    "\n",
    "# Prepare the dictionary and corpus\n",
    "texts = tweets_df['processed_text'].tolist()\n",
    "dictionary = corpora.Dictionary(texts)\n",
    "corpus = [dictionary.doc2bow(text) for text in texts]\n",
    "\n",
    "# LDA Model\n",
    "NUM_TOPICS = 5  # Initial guess, adjust based on coherence\n",
    "lda_model = models.LdaMulticore(corpus, num_topics=NUM_TOPICS, id2word=dictionary, passes=10, workers=workers)\n",
    "\n",
    "# Display the topics\n",
    "topics = lda_model.show_topics(formatted=True)\n",
    "for topic in topics:\n",
    "    print(topic)"
   ]
  },
  {
   "cell_type": "code",
   "execution_count": 16,
   "metadata": {
    "scrolled": false
   },
   "outputs": [
    {
     "name": "stdout",
     "output_type": "stream",
     "text": [
      "CPU times: user 49.5 s, sys: 6.94 s, total: 56.4 s\n",
      "Wall time: 3min 12s\n"
     ]
    }
   ],
   "source": [
    "%%time\n",
    "from gensim.models.coherencemodel import CoherenceModel\n",
    "\n",
    "def compute_coherence_values(dictionary, corpus, texts, start, limit, step):\n",
    "    coherence_values = []\n",
    "    model_list = []\n",
    "    for num_topics in range(start, limit + 1, step):\n",
    "        model = models.LdaMulticore(corpus=corpus, num_topics=num_topics, id2word=dictionary, passes=10, workers=workers)\n",
    "        model_list.append(model)\n",
    "        coherencemodel = CoherenceModel(model=model, texts=texts, dictionary=dictionary, coherence='c_v')\n",
    "        coherence_values.append(coherencemodel.get_coherence())\n",
    "    return model_list, coherence_values\n",
    "\n",
    "model_list, coherence_values = compute_coherence_values(dictionary=dictionary, corpus=corpus, texts=texts, start=2, limit=15, step=1)"
   ]
  },
  {
   "cell_type": "code",
   "execution_count": 18,
   "metadata": {},
   "outputs": [
    {
     "name": "stdout",
     "output_type": "stream",
     "text": [
      "CPU times: user 6 µs, sys: 1e+03 ns, total: 7 µs\n",
      "Wall time: 13.8 µs\n"
     ]
    },
    {
     "data": {
      "text/plain": [
       "[0.23142654418332553,\n",
       " 0.318141378944861,\n",
       " 0.2905791901402055,\n",
       " 0.401662183211564,\n",
       " 0.32018473225679495,\n",
       " 0.37532075605024656,\n",
       " 0.3846800627941928,\n",
       " 0.3850747521376644,\n",
       " 0.33272069011182337,\n",
       " 0.37742159510997425,\n",
       " 0.3620146622070928,\n",
       " 0.38089953432664997,\n",
       " 0.3896736725637772,\n",
       " 0.3667323309546308]"
      ]
     },
     "execution_count": 18,
     "metadata": {},
     "output_type": "execute_result"
    }
   ],
   "source": [
    "%%time\n",
    "coherence_values"
   ]
  },
  {
   "cell_type": "code",
   "execution_count": 25,
   "metadata": {},
   "outputs": [
    {
     "data": {
      "image/png": "[encoded data removed]",
      "text/plain": [
       "<Figure size 640x480 with 1 Axes>"
      ]
     },
     "metadata": {},
     "output_type": "display_data"
    },
    {
     "name": "stdout",
     "output_type": "stream",
     "text": [
      "(0, '0.056*\"microsoft\" + 0.050*\"ever\" + 0.010*\"number\" + 0.010*\"window\" + 0.009*\"year\" + 0.009*\"own\" + 0.008*\"word\" + 0.007*\"use\" + 0.006*\"know\" + 0.006*\"activision\"')\n",
      "(1, '0.037*\"microsoft\" + 0.017*\"ceo\" + 0.013*\"premium\" + 0.010*\"netflix\" + 0.010*\"grammarly\" + 0.010*\"apple\" + 0.010*\"canva\" + 0.009*\"spotify\" + 0.009*\"account\" + 0.009*\"quillbot\"')\n",
      "(2, '0.063*\"microsoft\" + 0.016*\"use\" + 0.011*\"new\" + 0.010*\"excel\" + 0.009*\"know\" + 0.008*\"work\" + 0.006*\"business\" + 0.006*\"today\" + 0.005*\"learn\" + 0.005*\"xbox\"')\n",
      "(3, '0.047*\"microsoft\" + 0.018*\"amp\" + 0.006*\"get\" + 0.006*\"one\" + 0.006*\"power\" + 0.005*\"time\" + 0.005*\"team\" + 0.005*\"like\" + 0.005*\"free\" + 0.005*\"take\"')\n",
      "(4, '0.065*\"microsoft\" + 0.015*\"game\" + 0.011*\"buy\" + 0.010*\"xbox\" + 0.009*\"sony\" + 0.009*\"billion\" + 0.009*\"like\" + 0.008*\"google\" + 0.008*\"company\" + 0.008*\"activision\"')\n",
      "CPU times: user 165 ms, sys: 463 ms, total: 628 ms\n",
      "Wall time: 107 ms\n"
     ]
    }
   ],
   "source": [
    "%%time\n",
    "# Plotting\n",
    "import matplotlib.pyplot as plt\n",
    "import numpy as np\n",
    "\n",
    "x = range(2, 16)  # Assuming you've computed coherence values for these numbers of topics\n",
    "plt.plot(x, coherence_values)\n",
    "plt.xlabel(\"Num Topics\")\n",
    "plt.ylabel(\"Coherence score\")\n",
    "plt.xticks(np.arange(min(x), max(x)+1, 1.0))  # Setting x-ticks to show every integer in the range\n",
    "plt.legend((\"coherence_values\"), loc='best')\n",
    "plt.show()\n",
    "\n",
    "# Select the model with the highest coherence and print its topics\n",
    "optimal_index = coherence_values.index(max(coherence_values))\n",
    "optimal_model = model_list[optimal_index]\n",
    "optimal_topics = optimal_model.show_topics(formatted=True)\n",
    "for topic in optimal_topics:\n",
    "    print(topic)"
   ]
  },
  {
   "cell_type": "markdown",
   "metadata": {},
   "source": [
    "The optimal N was selected based on the coherence score, which measures the degree of semantic similarity between high scoring words in each topic. A higher coherence score generally indicates the topics are more interpretable and meaningful. The goal is to choose N that ensures topics are distinct and informative, minimizing overlap while capturing the diversity of the discussion around the company in the tweets.\n",
    "\n",
    "By visually inspecting the plot of coherence scores against the number of topics, we can identify a point where increasing the number of topics does not significantly improve the coherence score, or the score might even start to decline. This point is often a good choice for N, balancing topic quality with manageability."
   ]
  },
  {
   "cell_type": "markdown",
   "metadata": {},
   "source": [
    "Topic 0: Microsoft's Software and Corporate Achievements\n",
    "Keywords: microsoft, ever, number, window, year, own, word, use, know, activision\n",
    "\n",
    "Topic 1: Microsoft in the Tech Ecosystem\n",
    "Keywords: microsoft, ceo, premium, netflix, grammarly, apple, canva, spotify, account, quillbot\n",
    "\n",
    "Topic 2: Microsoft's Products and Services\n",
    "Keywords: microsoft, use, new, excel, know, work, business, today, learn, xbox\n",
    "\n",
    "Topic 3: Microsoft's Community and Engagement\n",
    "Keywords: microsoft, amp, get, one, power, time, team, like, free, take\n",
    "\n",
    "Topic 4: Microsoft and the Gaming Industry\n",
    "Keywords: microsoft, game, buy, xbox, sony, billion, like, google, company, activision\n"
   ]
  },
  {
   "cell_type": "code",
   "execution_count": null,
   "metadata": {},
   "outputs": [],
   "source": []
  },
  {
   "cell_type": "code",
   "execution_count": null,
   "metadata": {},
   "outputs": [],
   "source": []
  },
  {
   "cell_type": "code",
   "execution_count": null,
   "metadata": {},
   "outputs": [],
   "source": []
  }
 ],
 "metadata": {
  "anaconda-cloud": {},
  "kernelspec": {
   "display_name": "Python 3 (ipykernel)",
   "language": "python",
   "name": "python3"
  },
  "language_info": {
   "codemirror_mode": {
    "name": "ipython",
    "version": 3
   },
   "file_extension": ".py",
   "mimetype": "text/x-python",
   "name": "python",
   "nbconvert_exporter": "python",
   "pygments_lexer": "ipython3",
   "version": "3.11.5"
  }
 },
 "nbformat": 4,
 "nbformat_minor": 4
}
